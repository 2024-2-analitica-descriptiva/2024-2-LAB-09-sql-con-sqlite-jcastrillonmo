{
 "cells": [
  {
   "cell_type": "code",
   "execution_count": 1,
   "metadata": {},
   "outputs": [
    {
     "name": "stdout",
     "output_type": "stream",
     "text": [
      "  K0   c01  c02    c03  c04\n",
      "0  A  5000  900  NMNJL  0.4\n",
      "1  B  7000  100  OLPKN  0.2\n",
      "2  C  1000  600  LMMML  0.2\n",
      "3  D  4000  600  PJLJL  0.4\n",
      "  K0  K1     c12  c13         c14   c15   c16\n",
      "0  E   1  273.08  600  2016-12-31  0.21  BDGD\n",
      "1  D   2  756.37  500  2019-02-28  0.37  BCCC\n",
      "2  E   3  305.43  100  2017-05-21  0.21  BAED\n",
      "3  D   4  662.69  800  2017-03-26  0.23  BGDD\n",
      "   K1     c21  c22         c23   c24    c25\n",
      "0   5  982.63  900  2018-04-13  0.25  VV-BV\n",
      "1  19  718.58  700  2018-04-12  0.12  VZ-MX\n",
      "2  15  850.49  700  2017-02-17  0.31  ZX-MV\n",
      "3  29  539.04  500  2019-01-23  0.30  MZ-CV\n"
     ]
    }
   ],
   "source": [
    "import sqlite3\n",
    "import pandas as pd\n",
    "\n",
    "# Ruta al archivo CSV\n",
    "csv_file_path = '../files/input/tbl0.csv'\n",
    "csv_file_path1 = '../files/input/tbl1.csv'\n",
    "csv_file_path2 = '../files/input/tbl2.csv'\n",
    "\n",
    "# Definir los encabezados manualmente\n",
    "column_names = ['K0', 'c01', 'c02', 'c03', 'c04']\n",
    "column_names1 = ['K0', 'K1', 'c12', 'c13', 'c14', 'c15', 'c16']\n",
    "column_names2 = ['K1', 'c21', 'c22', 'c23', 'c24', 'c25']\n",
    "\n",
    "# Leer el archivo CSV sin encabezados y asignar los nombres manualmente\n",
    "df = pd.read_csv(csv_file_path, names=column_names, header=None)\n",
    "df1 = pd.read_csv(csv_file_path1, names=column_names1, header=None)\n",
    "df2 = pd.read_csv(csv_file_path2, names=column_names2, header=None)\n",
    "print(df.head(4))\n",
    "print(df1.head(4))\n",
    "print(df2.head(4))"
   ]
  },
  {
   "cell_type": "code",
   "execution_count": 2,
   "metadata": {},
   "outputs": [],
   "source": [
    "# Conexión a la base de datos SQLite\n",
    "conn = sqlite3.connect(':memory:')  # Cambia ':memory:' por un archivo para guardar la base de datos\n",
    "cursor = conn.cursor()"
   ]
  },
  {
   "cell_type": "code",
   "execution_count": 3,
   "metadata": {},
   "outputs": [
    {
     "data": {
      "text/plain": [
       "120"
      ]
     },
     "execution_count": 3,
     "metadata": {},
     "output_type": "execute_result"
    }
   ],
   "source": [
    "# Crear la tabla tbl1 (asegúrate de que las columnas coincidan con el DataFrame)\n",
    "\n",
    "# Crear las tablas por separado\n",
    "cursor.execute('''\n",
    "CREATE TABLE tbl0 (\n",
    "    K0  CHAR(1),\n",
    "    c01 INT,\n",
    "    c02 INT,\n",
    "    c03 CHAR(4),\n",
    "    c04 FLOAT\n",
    ");\n",
    "''')\n",
    "\n",
    "cursor.execute('''\n",
    "CREATE TABLE tbl1 (\n",
    "    K0 CHAR(1),\n",
    "    K1 INT,\n",
    "    c12 FLOAT,\n",
    "    c13 INT,\n",
    "    c14 DATE,\n",
    "    c15 FLOAT,\n",
    "    c16 CHAR(4)\n",
    ");\n",
    "''')\n",
    "\n",
    "cursor.execute('''\n",
    "CREATE TABLE tbl2 (\n",
    "    K1  INT,\n",
    "    c21 FLOAT,\n",
    "    c22 INT,\n",
    "    c23 DATE,\n",
    "    c24 FLOAT,\n",
    "    c25 CHAR(5)\n",
    ");\n",
    "''')\n",
    "\n",
    "# Insertar datos desde el DataFrame a la tabla\n",
    "df.to_sql('tbl0', conn, if_exists='append', index=False)\n",
    "df1.to_sql('tbl1', conn, if_exists='append', index=False)\n",
    "df2.to_sql('tbl2', conn, if_exists='append', index=False)"
   ]
  },
  {
   "cell_type": "code",
   "execution_count": 4,
   "metadata": {},
   "outputs": [
    {
     "name": "stdout",
     "output_type": "stream",
     "text": [
      "La suma del campo c12 es: [(15137.63,)]\n"
     ]
    }
   ],
   "source": [
    "# Pregunta1: Escriba una consulta en SQL que devuelva la suma del campo c12.\n",
    "result = cursor.execute('SELECT SUM(c12) FROM tbl1').fetchall()\n",
    "\n",
    "# Mostrar el resultado\n",
    "print(f\"La suma del campo c12 es: {result}\")\n",
    "\n",
    "# Cerrar la conexión\n",
    "#conn.close()\n"
   ]
  },
  {
   "cell_type": "code",
   "execution_count": 5,
   "metadata": {},
   "outputs": [
    {
     "name": "stdout",
     "output_type": "stream",
     "text": [
      "La cantidad de registros de tbl1 es: [(30,)]\n"
     ]
    }
   ],
   "source": [
    "#Pregunta 2: Escriba una consulta que retorne la cantidad de registros de la tabla `tbl1`.\n",
    "result = cursor.execute('SELECT COUNT(*) FROM tbl1').fetchall()\n",
    "\n",
    "# Mostrar el resultado\n",
    "print(f\"La cantidad de registros de tbl1 es: {result}\")\n",
    "\n",
    "# Cerrar la conexión\n",
    "# conn.close()\n"
   ]
  },
  {
   "cell_type": "code",
   "execution_count": 6,
   "metadata": {},
   "outputs": [
    {
     "name": "stdout",
     "output_type": "stream",
     "text": [
      "Los primeros cinco registros ordenados por fecha de tbl1 son: [('A', 20, 938.16, 300, '2016-09-12', 0.19, 'BECB'), ('C', 15, 370.58, 900, '2016-10-01', 0.11, 'GCDD'), ('E', 22, 118.77, 900, '2016-10-29', 0.32, 'GEFE'), ('B', 12, 999.72, 800, '2016-11-09', 0.26, 'FCGD'), ('E', 14, 832.44, 800, '2016-11-22', 0.39, 'EGFD')]\n"
     ]
    }
   ],
   "source": [
    "#Pregunta3: Escriba una consulta que retorne los primeros cinco \n",
    "# registros de la tabla `tbl1` ordenados por fecha.\n",
    "\n",
    "result = cursor.execute('SELECT * FROM tbl1 ORDER BY C14 ASC LIMIT 5').fetchall()\n",
    "\n",
    "# Mostrar el resultado\n",
    "print(f\"Los primeros cinco registros ordenados por fecha de tbl1 son: {result}\")\n",
    "\n",
    "# Cerrar la conexión\n",
    "# conn.close()\n"
   ]
  },
  {
   "cell_type": "code",
   "execution_count": 7,
   "metadata": {},
   "outputs": [
    {
     "name": "stdout",
     "output_type": "stream",
     "text": [
      "El resultado es: [('E', 'EGFD'), ('B', 'BDEE'), ('C', 'CCCE')]\n"
     ]
    }
   ],
   "source": [
    "# Pregunta4: Escriba una consulta que retorne los campos K0 y c16\n",
    "# para los registros de la tabla tbl1 para los que la \n",
    "# columna c16 empieza por la misma letra de la columna K0.\n",
    "\n",
    "result = cursor.execute('''\n",
    "        SELECT K0, c16 \n",
    "        FROM tbl1 \n",
    "        WHERE c16 LIKE K0 || '%';\n",
    "        ''').fetchall()\n",
    "\n",
    "# Mostrar el resultado\n",
    "print(f\"El resultado es: {result}\")\n",
    "\n",
    "# Cerrar la conexión\n",
    "# conn.close()\n",
    "\n"
   ]
  },
  {
   "cell_type": "code",
   "execution_count": 8,
   "metadata": {},
   "outputs": [
    {
     "name": "stdout",
     "output_type": "stream",
     "text": [
      "El resultado es: [('B', 7000, 100, 'OLPKN', 0.2), ('C', 1000, 600, 'LMMML', 0.2), ('D', 4000, 600, 'PJLJL', 0.4), ('G', 5000, 100, 'NLPLO', 0.2)]\n"
     ]
    }
   ],
   "source": [
    "#Pregunta5:Escriba una consulta que retorne todos los campos de \n",
    "# la tabla tbl0 para los que el campo c02 es igual a 100 o igual a 600\n",
    "\n",
    "result = cursor.execute('''\n",
    "        SELECT * \n",
    "        FROM tbl0\n",
    "        WHERE c02 = 100 OR c02 = 600 ;\n",
    "        ''').fetchall()\n",
    "\n",
    "# Mostrar el resultado\n",
    "print(f\"El resultado es: {result}\")\n",
    "\n",
    "# Cerrar la conexión\n",
    "# conn.close()"
   ]
  },
  {
   "cell_type": "code",
   "execution_count": 9,
   "metadata": {},
   "outputs": [
    {
     "name": "stdout",
     "output_type": "stream",
     "text": [
      "El resultado es: [('A', 20, 938.16, 300, '2016-09-12', 0.19, 'BECB'), ('A', 30, 135.8, 900, '2017-01-26', 0.23, 'EGAB'), ('A', 18, 142.99, 100, '2017-02-12', 0.48, 'GGFD'), ('A', 26, 456.47, 400, '2018-01-28', 0.11, 'FGED'), ('A', 6, 391.42, 300, '2018-05-15', 0.22, 'BFGB'), ('A', 10, 816.51, 600, '2019-04-25', 0.4, 'DAGC')]\n"
     ]
    }
   ],
   "source": [
    "# Pregunta6:Escriba una consulta que retorne todos los campos de \n",
    "# la tabla tbl1 ordenada por fecha (c14) para los \n",
    "# registros con K0 igual a A\n",
    "\n",
    "result = cursor.execute('''\n",
    "        SELECT * \n",
    "        FROM tbl1\n",
    "        WHERE K0 = \"A\"\n",
    "        ORDER BY C14;\n",
    "                                      \n",
    "        ''').fetchall()\n",
    "\n",
    "# Mostrar el resultado\n",
    "print(f\"El resultado es: {result}\")\n",
    "\n",
    "# Cerrar la conexión\n",
    "# conn.close()"
   ]
  },
  {
   "cell_type": "code",
   "execution_count": 10,
   "metadata": {},
   "outputs": [
    {
     "name": "stdout",
     "output_type": "stream",
     "text": [
      "El resultado es: [('E', 14, 832.44, 800, '2016-11-22', 0.39, 'EGFD'), ('E', 8, 302.86, 700, '2016-12-22', 0.14, 'DFCC'), ('E', 1, 273.08, 600, '2016-12-31', 0.21, 'BDGD'), ('E', 27, 720.9, 800, '2017-01-16', 0.12, 'FBGD'), ('D', 4, 662.69, 800, '2017-03-26', 0.23, 'BGDD'), ('E', 3, 305.43, 100, '2017-05-21', 0.21, 'BAED'), ('C', 13, 712.61, 400, '2017-10-23', 0.31, 'EDDA'), ('C', 5, 822.81, 100, '2017-11-17', 0.35, 'GGFC'), ('C', 7, 755.27, 800, '2018-07-04', 0.47, 'GCDB'), ('E', 25, 600.9, 700, '2018-11-07', 0.36, 'BBBA'), ('D', 2, 756.37, 500, '2019-02-28', 0.37, 'BCCC'), ('C', 19, 570.43, 400, '2019-04-12', 0.48, 'FBEE'), ('C', 24, 482.32, 300, '2019-05-03', 0.11, 'CCCE')]\n"
     ]
    }
   ],
   "source": [
    "# Pregunta7:Escriba una consulta que retorne todos los campos de \n",
    "# la tabla tbl1 ordenada por fecha (c14) para los \n",
    "# registros con K0 diferente a A y B y c13 diferente de 200 y 900\n",
    "\n",
    "result = cursor.execute('''\n",
    "        SELECT * \n",
    "        FROM tbl1\n",
    "        WHERE K0 NOT IN ('A', 'B')\n",
    "            AND c13 NOT IN (200, 900)\n",
    "        ORDER BY C14;\n",
    "                                      \n",
    "        ''').fetchall()\n",
    "\n",
    "# Mostrar el resultado\n",
    "print(f\"El resultado es: {result}\")\n",
    "\n",
    "# Cerrar la conexión\n",
    "# conn.close()\n",
    "\n"
   ]
  },
  {
   "cell_type": "code",
   "execution_count": 25,
   "metadata": {},
   "outputs": [
    {
     "name": "stdout",
     "output_type": "stream",
     "text": [
      "El resultado es: [('2016', 564.476429), ('2017', 515.156364), ('2018', 557.559375), ('2019', 550.998571)]\n"
     ]
    }
   ],
   "source": [
    "#Pregunta8:Escriba una consulta que compute el promedio de la columna c21 \n",
    "# de la tabla tbl2 por año (columna c23).\n",
    "\n",
    "result = cursor.execute('''\n",
    "    SELECT \n",
    "        strftime('%Y', c23) AS year,\n",
    "        ROUND(AVG(c21), 6) AS average_c21  \n",
    "    FROM tbl2\n",
    "    GROUP BY year\n",
    "    ORDER BY year;\n",
    "                        \n",
    "''').fetchall()\n",
    "\n",
    "# Mostrar el resultado\n",
    "print(f\"El resultado es: {result}\")\n",
    "\n",
    "# Cerrar la conexión\n",
    "# conn.close()"
   ]
  },
  {
   "cell_type": "code",
   "execution_count": 36,
   "metadata": {},
   "outputs": [
    {
     "name": "stdout",
     "output_type": "stream",
     "text": [
      "El resultado es: [('2016', 564.48), ('2017', 515.16), ('2018', 557.56), ('2019', 551.0)]\n"
     ]
    }
   ],
   "source": [
    "#pregunta8: alternativa 2\n",
    "result = cursor.execute('''\n",
    " SELECT \n",
    "    strftime('%Y', c23), \n",
    "    ROUND(AVG(c21), 2) AS 'avg(c21)'\n",
    "FROM tbl2\n",
    "GROUP BY strftime('%Y', c23)\n",
    "                        \n",
    "''').fetchall()\n",
    "\n",
    "# Mostrar el resultado\n",
    "print(f\"El resultado es: {result}\")\n",
    "\n",
    "# Cerrar la conexión\n",
    "# conn.close()\n"
   ]
  },
  {
   "cell_type": "code",
   "execution_count": 27,
   "metadata": {},
   "outputs": [
    {
     "name": "stdout",
     "output_type": "stream",
     "text": [
      "El resultado es: [(29, 101.11, 100, '2017-11-17', 0.42, 'MV-CB')]\n"
     ]
    }
   ],
   "source": [
    "# Pregunta9:Escriba una consulta que retorne el registro\n",
    "# con el menor valor en la columna c21 de la tabla tbl2.\n",
    "\n",
    "result = cursor.execute('''\n",
    "SELECT *\n",
    "FROM tbl2\n",
    "WHERE c21 = (SELECT MIN(c21) from tbl2)\n",
    "                        \n",
    "''').fetchall()\n",
    "\n",
    "# Mostrar el resultado\n",
    "print(f\"El resultado es: {result}\")\n",
    "\n",
    "# Cerrar la conexión\n",
    "# conn.close()"
   ]
  },
  {
   "cell_type": "code",
   "execution_count": 28,
   "metadata": {},
   "outputs": [
    {
     "name": "stdout",
     "output_type": "stream",
     "text": [
      "El resultado es: [('A', 5000, 900, 'NMNJL', 0.4), ('C', 1000, 600, 'LMMML', 0.2), ('D', 4000, 600, 'PJLJL', 0.4), ('F', 2000, 300, 'NNPJO', 0.3), ('I', 3000, 300, 'PPPPL', 0.3)]\n"
     ]
    }
   ],
   "source": [
    "#pregunta 10:Escriba una consulta que retorne todos los \n",
    "# campos de los registros de la tabla tbl0 con la columna c02 mayor o igual a 300.\n",
    "\n",
    "result = cursor.execute('''\n",
    "    SELECT * \n",
    "    FROM tbl0\n",
    "    WHERE c02 >= 300;\n",
    "                        \n",
    "''').fetchall()\n",
    "\n",
    "# Mostrar el resultado\n",
    "print(f\"El resultado es: {result}\")\n",
    "\n",
    "# Cerrar la conexión\n",
    "# conn.close()"
   ]
  },
  {
   "cell_type": "code",
   "execution_count": 30,
   "metadata": {},
   "outputs": [
    {
     "name": "stdout",
     "output_type": "stream",
     "text": [
      "El resultado es: [(6,)]\n"
     ]
    }
   ],
   "source": [
    "#pregunta 11:Escriba una consulta que retorne el total \n",
    "# de registros de la tabla tbl1 para el año 2018\n",
    "\n",
    "result = cursor.execute('''\n",
    "SELECT COUNT(*)\n",
    "FROM tbl1\n",
    "WHERE strftime('%Y', c14) = '2018';\n",
    "                        \n",
    "''').fetchall()\n",
    "\n",
    "# Mostrar el resultado\n",
    "print(f\"El resultado es: {result}\")\n",
    "\n",
    "# Cerrar la conexión\n",
    "# conn.close()"
   ]
  },
  {
   "cell_type": "code",
   "execution_count": 33,
   "metadata": {},
   "outputs": [
    {
     "name": "stdout",
     "output_type": "stream",
     "text": [
      "El resultado es: [('A', 938.16, 135.8), ('B', 999.72, 283.4), ('C', 822.81, 267.42), ('D', 756.37, 317.77), ('E', 832.44, 118.77)]\n"
     ]
    }
   ],
   "source": [
    "#pregunta 12: Escriba una consulta que retorne por cada letra\n",
    "# de la columna K0, el valor máximo de la coumna c12\n",
    "# en la tabla tbl1.\n",
    "\n",
    "result = cursor.execute('''\n",
    "SELECT K0, MAX(c12), MIN(c12) \n",
    "FROM tbl1\n",
    "GROUP BY K0\n",
    "ORDER BY K0;\n",
    "                        \n",
    "''').fetchall()\n",
    "\n",
    "# Mostrar el resultado\n",
    "print(f\"El resultado es: {result}\")\n",
    "\n",
    "# Cerrar la conexión\n",
    "# conn.close()"
   ]
  },
  {
   "cell_type": "code",
   "execution_count": 34,
   "metadata": {},
   "outputs": [
    {
     "name": "stdout",
     "output_type": "stream",
     "text": [
      "El resultado es: [('A', 476.16), ('B', 536.52), ('C', 490.83), ('D', 709.53), ('E', 474.83)]\n"
     ]
    }
   ],
   "source": [
    "#pregunta 13: Escriba una consulta que retorne por cada letra\n",
    "# de la columna K0, el valor promedio de la columna c12\n",
    "# en la tabla tbl1, para aquellos registros con c13 mayora 400.\n",
    "\n",
    "result = cursor.execute('''\n",
    "SELECT \n",
    "    K0, \n",
    "    CASE \n",
    "        WHEN (AVG(c12) * 100) - FLOOR(AVG(c12) * 100) < 0.5 \n",
    "            THEN FLOOR(AVG(c12) * 100) / 100\n",
    "        ELSE CEIL(AVG(c12) * 100) / 100\n",
    "    END AS 'avg(c12)' \n",
    "FROM \n",
    "    tbl1 \n",
    "WHERE \n",
    "    c13 > 400 \n",
    "GROUP BY \n",
    "    K0;\n",
    "                        \n",
    "''').fetchall()\n",
    "\n",
    "# Mostrar el resultado\n",
    "print(f\"El resultado es: {result}\")\n",
    "\n",
    "# Cerrar la conexión\n",
    "# conn.close()"
   ]
  },
  {
   "cell_type": "code",
   "execution_count": 35,
   "metadata": {},
   "outputs": [
    {
     "name": "stdout",
     "output_type": "stream",
     "text": [
      "El resultado es: [('A', 593.495), ('B', 575.47), ('C', 530.7529999999999), ('D', 655.6125), ('E', 555.3230769230769)]\n"
     ]
    }
   ],
   "source": [
    "#pregunta 14:Escriba una consulta que retorne por cada letra de la\n",
    "# columna K0 de la tabla tbl1, el valor promedio de la \n",
    "# columna c21 en la tabla tbl2, para aquellos registros\n",
    "# con c13 mayor a 400.\n",
    "\n",
    "result = cursor.execute('''\n",
    "SELECT tbl1.K0, AVG(tbl2.c21) AS 'avg(c21)'\n",
    "FROM tbl1\n",
    "JOIN tbl2 ON tbl1.K1 = tbl2.K1\n",
    "WHERE tbl1.c13 > 400\n",
    "GROUP BY tbl1.K0;\n",
    "                        \n",
    "''').fetchall()\n",
    "\n",
    "# Mostrar el resultado\n",
    "print(f\"El resultado es: {result}\")\n",
    "\n",
    "# Cerrar la conexión"
   ]
  }
 ],
 "metadata": {
  "kernelspec": {
   "display_name": ".venv",
   "language": "python",
   "name": "python3"
  },
  "language_info": {
   "codemirror_mode": {
    "name": "ipython",
    "version": 3
   },
   "file_extension": ".py",
   "mimetype": "text/x-python",
   "name": "python",
   "nbconvert_exporter": "python",
   "pygments_lexer": "ipython3",
   "version": "3.12.8"
  }
 },
 "nbformat": 4,
 "nbformat_minor": 2
}
